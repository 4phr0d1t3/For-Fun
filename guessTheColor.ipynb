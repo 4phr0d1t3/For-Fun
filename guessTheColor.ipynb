{
 "cells": [
  {
   "cell_type": "code",
   "execution_count": 38,
   "metadata": {},
   "outputs": [
    {
     "name": "stdout",
     "output_type": "stream",
     "text": [
      "#6f00d6\n"
     ]
    }
   ],
   "source": [
    "import tkinter as tk\n",
    "from random import randint\n",
    "\n",
    "def random_color():\n",
    "\treturn f'#{randint(0, 0xFFFFFF):06x}'\n",
    "\n",
    "def operation(delta, index):\n",
    "\tglobal number, number_given\n",
    "\tnumber[index] = (number[index] + delta) % 16\n",
    "\tlabel[index]['text'] = f'{number[index]:x}'\n",
    "\n",
    "\tfactor = delta * pow(16, 5 - index)\n",
    "\tif number[index] == 0 and delta > 0 or number[index] == 15 and delta < 0:\n",
    "\t\tnumber_given -= factor * 15\n",
    "\telse:\n",
    "\t\tnumber_given += factor\n",
    "\n",
    "\tpercent = \"{:.3f}\".format((1 - abs(number_given - solution_int) / scale) * 100)\n",
    "\tlabel_percent['text'] = percent\n",
    "\n",
    "\tif number_given == solution_int:\n",
    "\t\tlabel_correct['text'] = 'Found'\n",
    "\telse:\n",
    "\t\tlabel_correct['text'] = 'Not it'\n",
    "\n",
    "solution = random_color()\n",
    "print(solution)\n",
    "solution_int = int(solution[1:], 16)\n",
    "\n",
    "if 0xFFFFFF - solution_int > solution_int:\n",
    "\tscale = 0xFFFFFF - solution_int\n",
    "else:\n",
    "\tscale = solution_int\n",
    "\n",
    "number = [0] * 6\n",
    "number_given = 0\n",
    "\n",
    "window = tk.Tk()\n",
    "window.title(\"Programme\")\n",
    "window.geometry('220x100')\n",
    "window.configure(bg=solution)\n",
    "\n",
    "buttons = []\n",
    "label = []\n",
    "for i in range(6):\n",
    "\tbutton_add = tk.Button(window, text=\"▲\", command=lambda i=i: operation(1, i))\n",
    "\tbutton_sub = tk.Button(window, text=\"▼\", command=lambda i=i: operation(-1, i))\n",
    "\tlabel.append(tk.Label(window, text=f'{number[i]:x}'))\n",
    "\n",
    "\tbutton_add.grid(column=i, row=0)\n",
    "\tlabel[i].grid(column=i, row=1)\n",
    "\tbutton_sub.grid(column=i, row=2)\n",
    "\tbuttons.extend([button_add, button_sub])\n",
    "\n",
    "label_percent = tk.Label(window, text=\"\")\n",
    "label_correct = tk.Label(window, text='Start')\n",
    "\n",
    "label_percent.grid(column=6, row=1)\n",
    "label_correct.grid(column=7, row=1)\n",
    "\n",
    "window.mainloop()"
   ]
  }
 ],
 "metadata": {
  "kernelspec": {
   "display_name": "S",
   "language": "python",
   "name": "python3"
  },
  "language_info": {
   "codemirror_mode": {
    "name": "ipython",
    "version": 3
   },
   "file_extension": ".py",
   "mimetype": "text/x-python",
   "name": "python",
   "nbconvert_exporter": "python",
   "pygments_lexer": "ipython3",
   "version": "3.11.4"
  },
  "orig_nbformat": 4
 },
 "nbformat": 4,
 "nbformat_minor": 2
}
